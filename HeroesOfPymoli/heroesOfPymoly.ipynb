{
 "cells": [
  {
   "cell_type": "markdown",
   "metadata": {},
   "source": [
    "### Note\n",
    "* Instructions have been included for each segment. You do not have to follow them exactly, but they are included to help you think through the steps."
   ]
  },
  {
   "cell_type": "code",
   "execution_count": 223,
   "metadata": {},
   "outputs": [],
   "source": [
    "# Dependencies and Setup\n",
    "import pandas as pd\n",
    "\n",
    "# Read Purchasing File and store into Pandas data frame\n",
    "purchase_data = pd.read_csv(\"Resources/purchase_data.csv\")"
   ]
  },
  {
   "cell_type": "markdown",
   "metadata": {},
   "source": [
    "## Player Count"
   ]
  },
  {
   "cell_type": "markdown",
   "metadata": {},
   "source": [
    "* Display the total number of players\n"
   ]
  },
  {
   "cell_type": "code",
   "execution_count": 224,
   "metadata": {},
   "outputs": [
    {
     "output_type": "stream",
     "name": "stdout",
     "text": [
      "Total Number of Players: 576\n"
     ]
    }
   ],
   "source": [
    "uniquePeeps = purchase_data.drop_duplicates(subset=\"SN\")\n",
    "print(f\"Total Number of Players: {len(uniquePeeps.index)}\")"
   ]
  },
  {
   "cell_type": "markdown",
   "metadata": {},
   "source": [
    "## Purchasing Analysis (Total)"
   ]
  },
  {
   "cell_type": "markdown",
   "metadata": {},
   "source": [
    "* Run basic calculations to obtain number of unique items, average price, etc.\n",
    "\n",
    "\n",
    "* Create a summary data frame to hold the results\n",
    "\n",
    "\n",
    "* Optional: give the displayed data cleaner formatting\n",
    "\n",
    "\n",
    "* Display the summary data frame\n"
   ]
  },
  {
   "cell_type": "code",
   "execution_count": 225,
   "metadata": {
    "scrolled": true
   },
   "outputs": [],
   "source": [
    "numItems = purchase_data['Item ID'].nunique()\n",
    "avgPrice = '${:,.2f}'.format(purchase_data[\"Price\"].mean())\n",
    "numPurchases = len(purchase_data.index)\n",
    "revenue = '${:,.2f}'.format(purchase_data[\"Price\"].sum())\n",
    "avgAge = int(uniquePeeps[\"Age\"].mean())"
   ]
  },
  {
   "cell_type": "code",
   "execution_count": 226,
   "metadata": {},
   "outputs": [
    {
     "output_type": "execute_result",
     "data": {
      "text/plain": [
       "   Number of Unique Items Average Price  Number of Purchases Total Revenue  \\\n",
       "0                     179         $3.05                  780     $2,379.77   \n",
       "\n",
       "   Average Age of Purchasers  \n",
       "0                         22  "
      ],
      "text/html": "<div>\n<style scoped>\n    .dataframe tbody tr th:only-of-type {\n        vertical-align: middle;\n    }\n\n    .dataframe tbody tr th {\n        vertical-align: top;\n    }\n\n    .dataframe thead th {\n        text-align: right;\n    }\n</style>\n<table border=\"1\" class=\"dataframe\">\n  <thead>\n    <tr style=\"text-align: right;\">\n      <th></th>\n      <th>Number of Unique Items</th>\n      <th>Average Price</th>\n      <th>Number of Purchases</th>\n      <th>Total Revenue</th>\n      <th>Average Age of Purchasers</th>\n    </tr>\n  </thead>\n  <tbody>\n    <tr>\n      <th>0</th>\n      <td>179</td>\n      <td>$3.05</td>\n      <td>780</td>\n      <td>$2,379.77</td>\n      <td>22</td>\n    </tr>\n  </tbody>\n</table>\n</div>"
     },
     "metadata": {},
     "execution_count": 226
    }
   ],
   "source": [
    "summary_df = pd.DataFrame({\n",
    "    \"Number of Unique Items\":[numItems],\n",
    "    \"Average Price\":[avgPrice],\n",
    "    \"Number of Purchases\":[numPurchases],\n",
    "    \"Total Revenue\":[revenue],\n",
    "    \"Average Age of Purchasers\":[avgAge]\n",
    "})\n",
    "summary_df"
   ]
  },
  {
   "cell_type": "markdown",
   "metadata": {},
   "source": [
    "## Gender Demographics"
   ]
  },
  {
   "cell_type": "markdown",
   "metadata": {},
   "source": [
    "* Percentage and Count of Male Players\n",
    "\n",
    "\n",
    "* Percentage and Count of Female Players\n",
    "\n",
    "\n",
    "* Percentage and Count of Other / Non-Disclosed\n",
    "\n",
    "\n"
   ]
  },
  {
   "cell_type": "code",
   "execution_count": 227,
   "metadata": {},
   "outputs": [
    {
     "output_type": "execute_result",
     "data": {
      "text/plain": [
       "                       Total Count Percentage of Players\n",
       "Male                           484                84.03%\n",
       "Female                          81                14.06%\n",
       "Other / Non-Disclosed           11                 1.91%"
      ],
      "text/html": "<div>\n<style scoped>\n    .dataframe tbody tr th:only-of-type {\n        vertical-align: middle;\n    }\n\n    .dataframe tbody tr th {\n        vertical-align: top;\n    }\n\n    .dataframe thead th {\n        text-align: right;\n    }\n</style>\n<table border=\"1\" class=\"dataframe\">\n  <thead>\n    <tr style=\"text-align: right;\">\n      <th></th>\n      <th>Total Count</th>\n      <th>Percentage of Players</th>\n    </tr>\n  </thead>\n  <tbody>\n    <tr>\n      <th>Male</th>\n      <td>484</td>\n      <td>84.03%</td>\n    </tr>\n    <tr>\n      <th>Female</th>\n      <td>81</td>\n      <td>14.06%</td>\n    </tr>\n    <tr>\n      <th>Other / Non-Disclosed</th>\n      <td>11</td>\n      <td>1.91%</td>\n    </tr>\n  </tbody>\n</table>\n</div>"
     },
     "metadata": {},
     "execution_count": 227
    }
   ],
   "source": [
    "genderPer = uniquePeeps[\"Gender\"].value_counts(normalize=True)\n",
    "genderCou = uniquePeeps[\"Gender\"].value_counts()\n",
    "gender_df = pd.concat([genderCou, genderPer], axis=1, keys=[\"Total Count\",\"Percentage of Players\"])\n",
    "gender_df[\"Percentage of Players\"] = ['{0:.2f}%'.format(x * 100) for x in genderPer.values]\n",
    "gender_df"
   ]
  },
  {
   "cell_type": "markdown",
   "metadata": {},
   "source": [
    "\n",
    "## Purchasing Analysis (Gender)"
   ]
  },
  {
   "cell_type": "markdown",
   "metadata": {},
   "source": [
    "* Run basic calculations to obtain purchase count, avg. purchase price, avg. purchase total per person etc. by gender\n",
    "\n",
    "\n",
    "\n",
    "\n",
    "* Create a summary data frame to hold the results\n",
    "\n",
    "\n",
    "* Optional: give the displayed data cleaner formatting\n",
    "\n",
    "\n",
    "* Display the summary data frame"
   ]
  },
  {
   "cell_type": "code",
   "execution_count": 228,
   "metadata": {},
   "outputs": [
    {
     "output_type": "execute_result",
     "data": {
      "text/plain": [
       "                       Purchase Count Average Purchase Price  \\\n",
       "Gender                                                         \n",
       "Female                            113                  $3.20   \n",
       "Male                              652                  $3.02   \n",
       "Other / Non-Disclosed              15                  $3.35   \n",
       "\n",
       "                      Total Purchase Value  \n",
       "Gender                                      \n",
       "Female                             $361.94  \n",
       "Male                             $1,967.64  \n",
       "Other / Non-Disclosed               $50.19  "
      ],
      "text/html": "<div>\n<style scoped>\n    .dataframe tbody tr th:only-of-type {\n        vertical-align: middle;\n    }\n\n    .dataframe tbody tr th {\n        vertical-align: top;\n    }\n\n    .dataframe thead th {\n        text-align: right;\n    }\n</style>\n<table border=\"1\" class=\"dataframe\">\n  <thead>\n    <tr style=\"text-align: right;\">\n      <th></th>\n      <th>Purchase Count</th>\n      <th>Average Purchase Price</th>\n      <th>Total Purchase Value</th>\n    </tr>\n    <tr>\n      <th>Gender</th>\n      <th></th>\n      <th></th>\n      <th></th>\n    </tr>\n  </thead>\n  <tbody>\n    <tr>\n      <th>Female</th>\n      <td>113</td>\n      <td>$3.20</td>\n      <td>$361.94</td>\n    </tr>\n    <tr>\n      <th>Male</th>\n      <td>652</td>\n      <td>$3.02</td>\n      <td>$1,967.64</td>\n    </tr>\n    <tr>\n      <th>Other / Non-Disclosed</th>\n      <td>15</td>\n      <td>$3.35</td>\n      <td>$50.19</td>\n    </tr>\n  </tbody>\n</table>\n</div>"
     },
     "metadata": {},
     "execution_count": 228
    }
   ],
   "source": [
    "genders = purchase_data.groupby(\"Gender\")\n",
    "purchasing_df = pd.DataFrame({\n",
    "    \"Purchase Count\": genders[\"Purchase ID\"].count(),\n",
    "    \"Average Purchase Price\": ['${:,.2f}'.format(x) for x in genders[\"Price\"].mean()],\n",
    "    \"Total Purchase Value\": ['${:,.2f}'.format(y) for y in genders[\"Price\"].sum()],\n",
    "})\n",
    "purchasing_df"
   ]
  },
  {
   "cell_type": "markdown",
   "metadata": {},
   "source": [
    "## Age Demographics"
   ]
  },
  {
   "cell_type": "markdown",
   "metadata": {},
   "source": [
    "* Establish bins for ages\n",
    "\n",
    "\n",
    "* Categorize the existing players using the age bins. Hint: use pd.cut()\n",
    "\n",
    "\n",
    "* Calculate the numbers and percentages by age group\n",
    "\n",
    "\n",
    "* Create a summary data frame to hold the results\n",
    "\n",
    "\n",
    "* Optional: round the percentage column to two decimal points\n",
    "\n",
    "\n",
    "* Display Age Demographics Table\n"
   ]
  },
  {
   "cell_type": "code",
   "execution_count": 229,
   "metadata": {},
   "outputs": [
    {
     "output_type": "execute_result",
     "data": {
      "text/plain": [
       "       Total Count Percentage of Players\n",
       "<=10            24                 4.17%\n",
       "10-15           41                 7.12%\n",
       "15-20          150                26.04%\n",
       "20-25          232                40.28%\n",
       "25-30           59                10.24%\n",
       "30-35           37                 6.42%\n",
       "35-40           26                 4.51%\n",
       ">40              7                 1.22%"
      ],
      "text/html": "<div>\n<style scoped>\n    .dataframe tbody tr th:only-of-type {\n        vertical-align: middle;\n    }\n\n    .dataframe tbody tr th {\n        vertical-align: top;\n    }\n\n    .dataframe thead th {\n        text-align: right;\n    }\n</style>\n<table border=\"1\" class=\"dataframe\">\n  <thead>\n    <tr style=\"text-align: right;\">\n      <th></th>\n      <th>Total Count</th>\n      <th>Percentage of Players</th>\n    </tr>\n  </thead>\n  <tbody>\n    <tr>\n      <th>&lt;=10</th>\n      <td>24</td>\n      <td>4.17%</td>\n    </tr>\n    <tr>\n      <th>10-15</th>\n      <td>41</td>\n      <td>7.12%</td>\n    </tr>\n    <tr>\n      <th>15-20</th>\n      <td>150</td>\n      <td>26.04%</td>\n    </tr>\n    <tr>\n      <th>20-25</th>\n      <td>232</td>\n      <td>40.28%</td>\n    </tr>\n    <tr>\n      <th>25-30</th>\n      <td>59</td>\n      <td>10.24%</td>\n    </tr>\n    <tr>\n      <th>30-35</th>\n      <td>37</td>\n      <td>6.42%</td>\n    </tr>\n    <tr>\n      <th>35-40</th>\n      <td>26</td>\n      <td>4.51%</td>\n    </tr>\n    <tr>\n      <th>&gt;40</th>\n      <td>7</td>\n      <td>1.22%</td>\n    </tr>\n  </tbody>\n</table>\n</div>"
     },
     "metadata": {},
     "execution_count": 229
    }
   ],
   "source": [
    "bins = [0,10,15,20,25,30,35,40,max(purchase_data[\"Age\"])]\n",
    "labels = [\"<=10\",\"10-15\",\"15-20\",\"20-25\",\"25-30\",\"30-35\",\"35-40\",\">40\"]\n",
    "uniquePeeps[\"Age Group\"] = pd.cut(uniquePeeps[\"Age\"], bins, labels=labels, include_lowest=True)\n",
    "ageCount = uniquePeeps[\"Age Group\"].value_counts()\n",
    "agePerc = uniquePeeps[\"Age Group\"].value_counts(normalize=True)\n",
    "ages_df = pd.concat([ageCount, agePerc], axis=1, keys=[\"Total Count\",\"Percentage of Players\"])\n",
    "ages_df[\"Percentage of Players\"] = ['{0:.2f}%'.format(x * 100) for x in agePerc.values]\n",
    "ages_df.sort_index()"
   ]
  },
  {
   "cell_type": "markdown",
   "metadata": {},
   "source": [
    "## Purchasing Analysis (Age)"
   ]
  },
  {
   "cell_type": "markdown",
   "metadata": {},
   "source": [
    "* Bin the purchase_data data frame by age\n",
    "\n",
    "\n",
    "* Run basic calculations to obtain purchase count, avg. purchase price, avg. purchase total per person etc. in the table below\n",
    "\n",
    "\n",
    "* Create a summary data frame to hold the results\n",
    "\n",
    "\n",
    "* Optional: give the displayed data cleaner formatting\n",
    "\n",
    "\n",
    "* Display the summary data frame"
   ]
  },
  {
   "cell_type": "code",
   "execution_count": 230,
   "metadata": {},
   "outputs": [
    {
     "output_type": "execute_result",
     "data": {
      "text/plain": [
       "           Purchase Count Average Purchase Price Total Purchase Value\n",
       "Age Group                                                            \n",
       "<=10                   32                  $3.40              $108.96\n",
       "10-15                  54                  $2.90              $156.60\n",
       "15-20                 200                  $3.11              $621.56\n",
       "20-25                 325                  $3.02              $981.64\n",
       "25-30                  77                  $2.88              $221.42\n",
       "30-35                  52                  $2.99              $155.71\n",
       "35-40                  33                  $3.40              $112.35\n",
       ">40                     7                  $3.08               $21.53"
      ],
      "text/html": "<div>\n<style scoped>\n    .dataframe tbody tr th:only-of-type {\n        vertical-align: middle;\n    }\n\n    .dataframe tbody tr th {\n        vertical-align: top;\n    }\n\n    .dataframe thead th {\n        text-align: right;\n    }\n</style>\n<table border=\"1\" class=\"dataframe\">\n  <thead>\n    <tr style=\"text-align: right;\">\n      <th></th>\n      <th>Purchase Count</th>\n      <th>Average Purchase Price</th>\n      <th>Total Purchase Value</th>\n    </tr>\n    <tr>\n      <th>Age Group</th>\n      <th></th>\n      <th></th>\n      <th></th>\n    </tr>\n  </thead>\n  <tbody>\n    <tr>\n      <th>&lt;=10</th>\n      <td>32</td>\n      <td>$3.40</td>\n      <td>$108.96</td>\n    </tr>\n    <tr>\n      <th>10-15</th>\n      <td>54</td>\n      <td>$2.90</td>\n      <td>$156.60</td>\n    </tr>\n    <tr>\n      <th>15-20</th>\n      <td>200</td>\n      <td>$3.11</td>\n      <td>$621.56</td>\n    </tr>\n    <tr>\n      <th>20-25</th>\n      <td>325</td>\n      <td>$3.02</td>\n      <td>$981.64</td>\n    </tr>\n    <tr>\n      <th>25-30</th>\n      <td>77</td>\n      <td>$2.88</td>\n      <td>$221.42</td>\n    </tr>\n    <tr>\n      <th>30-35</th>\n      <td>52</td>\n      <td>$2.99</td>\n      <td>$155.71</td>\n    </tr>\n    <tr>\n      <th>35-40</th>\n      <td>33</td>\n      <td>$3.40</td>\n      <td>$112.35</td>\n    </tr>\n    <tr>\n      <th>&gt;40</th>\n      <td>7</td>\n      <td>$3.08</td>\n      <td>$21.53</td>\n    </tr>\n  </tbody>\n</table>\n</div>"
     },
     "metadata": {},
     "execution_count": 230
    }
   ],
   "source": [
    "purchase_data[\"Age Group\"] = pd.cut(purchase_data[\"Age\"], bins, labels=labels, include_lowest=True)\n",
    "ages = purchase_data.groupby(\"Age Group\")\n",
    "agePurchase_df = pd.DataFrame({\n",
    "    \"Purchase Count\": ages[\"Purchase ID\"].count(),\n",
    "    \"Average Purchase Price\": ['${:,.2f}'.format(x) for x in ages[\"Price\"].mean()],\n",
    "    \"Total Purchase Value\": ['${:,.2f}'.format(y) for y in ages[\"Price\"].sum()],\n",
    "})\n",
    "agePurchase_df"
   ]
  },
  {
   "cell_type": "markdown",
   "metadata": {},
   "source": [
    "## Top Spenders"
   ]
  },
  {
   "cell_type": "markdown",
   "metadata": {},
   "source": [
    "* Run basic calculations to obtain the results in the table below\n",
    "\n",
    "\n",
    "* Create a summary data frame to hold the results\n",
    "\n",
    "\n",
    "* Sort the total purchase value column in descending order\n",
    "\n",
    "\n",
    "* Optional: give the displayed data cleaner formatting\n",
    "\n",
    "\n",
    "* Display a preview of the summary data frame\n",
    "\n"
   ]
  },
  {
   "cell_type": "code",
   "execution_count": 231,
   "metadata": {},
   "outputs": [
    {
     "output_type": "execute_result",
     "data": {
      "text/plain": [
       "            SN  Purchase Count Average Purchase Price Total Purchase Value\n",
       "0    Lisosia93               5                  $3.79               $18.96\n",
       "1  Idastidru52               4                  $3.86               $15.45\n",
       "2   Chamjask73               3                  $4.61               $13.83\n",
       "3       Iral74               4                  $3.40               $13.62\n",
       "4  Iskadarya95               3                  $4.37               $13.10"
      ],
      "text/html": "<div>\n<style scoped>\n    .dataframe tbody tr th:only-of-type {\n        vertical-align: middle;\n    }\n\n    .dataframe tbody tr th {\n        vertical-align: top;\n    }\n\n    .dataframe thead th {\n        text-align: right;\n    }\n</style>\n<table border=\"1\" class=\"dataframe\">\n  <thead>\n    <tr style=\"text-align: right;\">\n      <th></th>\n      <th>SN</th>\n      <th>Purchase Count</th>\n      <th>Average Purchase Price</th>\n      <th>Total Purchase Value</th>\n    </tr>\n  </thead>\n  <tbody>\n    <tr>\n      <th>0</th>\n      <td>Lisosia93</td>\n      <td>5</td>\n      <td>$3.79</td>\n      <td>$18.96</td>\n    </tr>\n    <tr>\n      <th>1</th>\n      <td>Idastidru52</td>\n      <td>4</td>\n      <td>$3.86</td>\n      <td>$15.45</td>\n    </tr>\n    <tr>\n      <th>2</th>\n      <td>Chamjask73</td>\n      <td>3</td>\n      <td>$4.61</td>\n      <td>$13.83</td>\n    </tr>\n    <tr>\n      <th>3</th>\n      <td>Iral74</td>\n      <td>4</td>\n      <td>$3.40</td>\n      <td>$13.62</td>\n    </tr>\n    <tr>\n      <th>4</th>\n      <td>Iskadarya95</td>\n      <td>3</td>\n      <td>$4.37</td>\n      <td>$13.10</td>\n    </tr>\n  </tbody>\n</table>\n</div>"
     },
     "metadata": {},
     "execution_count": 231
    }
   ],
   "source": [
    "spending = purchase_data.groupby(\"SN\")[\"Price\"]\n",
    "spending_df = pd.DataFrame({\n",
    "    \"Purchase Count\": spending.count(),\n",
    "    \"Average Purchase Price\": spending.mean(),\n",
    "    \"Total Purchase Value\": spending.sum(),\n",
    "})\n",
    "spending_df = spending_df.sort_values(\"Total Purchase Value\", ascending=False).reset_index()\n",
    "spending_df[\"Total Purchase Value\"] = spending_df[\"Total Purchase Value\"].map('${:,.2f}'.format)\n",
    "spending_df[\"Average Purchase Price\"] = spending_df[\"Average Purchase Price\"].map('${:,.2f}'.format)\n",
    "spending_df.head()"
   ]
  },
  {
   "cell_type": "markdown",
   "metadata": {},
   "source": [
    "## Most Popular Items"
   ]
  },
  {
   "cell_type": "markdown",
   "metadata": {},
   "source": [
    "* Retrieve the Item ID, Item Name, and Item Price columns\n",
    "\n",
    "\n",
    "* Group by Item ID and Item Name. Perform calculations to obtain purchase count, average item price, and total purchase value\n",
    "\n",
    "\n",
    "* Create a summary data frame to hold the results\n",
    "\n",
    "\n",
    "* Sort the purchase count column in descending order\n",
    "\n",
    "\n",
    "* Optional: give the displayed data cleaner formatting\n",
    "\n",
    "\n",
    "* Display a preview of the summary data frame\n",
    "\n"
   ]
  },
  {
   "cell_type": "code",
   "execution_count": 242,
   "metadata": {},
   "outputs": [
    {
     "output_type": "execute_result",
     "data": {
      "text/plain": [
       "                                            Item Name  Purchase Count  \\\n",
       "Item ID                                                                 \n",
       "92                                       Final Critic              13   \n",
       "178      Oathbreaker, Last Hope of the Breaking Storm              12   \n",
       "145                              Fiery Glass Crusader               9   \n",
       "132                                        Persuasion               9   \n",
       "108         Extraction, Quickblade Of Trembling Hands               9   \n",
       "\n",
       "        Item Price Total Purchase Value  \n",
       "Item ID                                  \n",
       "92           $4.61            $1,196.00  \n",
       "178          $4.23            $2,136.00  \n",
       "145          $4.58            $1,305.00  \n",
       "132          $3.22            $1,188.00  \n",
       "108          $3.53              $972.00  "
      ],
      "text/html": "<div>\n<style scoped>\n    .dataframe tbody tr th:only-of-type {\n        vertical-align: middle;\n    }\n\n    .dataframe tbody tr th {\n        vertical-align: top;\n    }\n\n    .dataframe thead th {\n        text-align: right;\n    }\n</style>\n<table border=\"1\" class=\"dataframe\">\n  <thead>\n    <tr style=\"text-align: right;\">\n      <th></th>\n      <th>Item Name</th>\n      <th>Purchase Count</th>\n      <th>Item Price</th>\n      <th>Total Purchase Value</th>\n    </tr>\n    <tr>\n      <th>Item ID</th>\n      <th></th>\n      <th></th>\n      <th></th>\n      <th></th>\n    </tr>\n  </thead>\n  <tbody>\n    <tr>\n      <th>92</th>\n      <td>Final Critic</td>\n      <td>13</td>\n      <td>$4.61</td>\n      <td>$1,196.00</td>\n    </tr>\n    <tr>\n      <th>178</th>\n      <td>Oathbreaker, Last Hope of the Breaking Storm</td>\n      <td>12</td>\n      <td>$4.23</td>\n      <td>$2,136.00</td>\n    </tr>\n    <tr>\n      <th>145</th>\n      <td>Fiery Glass Crusader</td>\n      <td>9</td>\n      <td>$4.58</td>\n      <td>$1,305.00</td>\n    </tr>\n    <tr>\n      <th>132</th>\n      <td>Persuasion</td>\n      <td>9</td>\n      <td>$3.22</td>\n      <td>$1,188.00</td>\n    </tr>\n    <tr>\n      <th>108</th>\n      <td>Extraction, Quickblade Of Trembling Hands</td>\n      <td>9</td>\n      <td>$3.53</td>\n      <td>$972.00</td>\n    </tr>\n  </tbody>\n</table>\n</div>"
     },
     "metadata": {},
     "execution_count": 242
    }
   ],
   "source": [
    "justItemizeIt = purchase_data[[\"Item ID\",\"Item Name\",\"Price\"]]\n",
    "itemGroups = justItemizeIt.groupby([\"Item ID\",\"Item Name\"])\n",
    "items_df = pd.DataFrame({\n",
    "    \"Purchase Count\": itemGroups[\"Item ID\"].count(),\n",
    "    \"Item Price\":itemGroups[\"Price\"].mean(),\n",
    "    \"Total Purchase Value\": itemGroups[\"Item ID\"].sum()\n",
    "})\n",
    "items_df = items_df.sort_values(\"Purchase Count\", ascending=False).reset_index().set_index(\"Item ID\")\n",
    "items_df[\"Total Purchase Value\"] = items_df[\"Total Purchase Value\"].map('${:,.2f}'.format)\n",
    "items_df[\"Item Price\"] = items_df[\"Item Price\"].map('${:,.2f}'.format)\n",
    "items_df.head()"
   ]
  },
  {
   "cell_type": "markdown",
   "metadata": {},
   "source": [
    "## Most Profitable Items"
   ]
  },
  {
   "cell_type": "markdown",
   "metadata": {},
   "source": [
    "* Sort the above table by total purchase value in descending order\n",
    "\n",
    "\n",
    "* Optional: give the displayed data cleaner formatting\n",
    "\n",
    "\n",
    "* Display a preview of the data frame\n",
    "\n"
   ]
  },
  {
   "cell_type": "code",
   "execution_count": 10,
   "metadata": {
    "scrolled": true
   },
   "outputs": [
    {
     "data": {
      "text/html": [
       "<div>\n",
       "<style scoped>\n",
       "    .dataframe tbody tr th:only-of-type {\n",
       "        vertical-align: middle;\n",
       "    }\n",
       "\n",
       "    .dataframe tbody tr th {\n",
       "        vertical-align: top;\n",
       "    }\n",
       "\n",
       "    .dataframe thead th {\n",
       "        text-align: right;\n",
       "    }\n",
       "</style>\n",
       "<table border=\"1\" class=\"dataframe\">\n",
       "  <thead>\n",
       "    <tr style=\"text-align: right;\">\n",
       "      <th></th>\n",
       "      <th></th>\n",
       "      <th>Purchase Count</th>\n",
       "      <th>Item Price</th>\n",
       "      <th>Total Purchase Value</th>\n",
       "    </tr>\n",
       "    <tr>\n",
       "      <th>Item ID</th>\n",
       "      <th>Item Name</th>\n",
       "      <th></th>\n",
       "      <th></th>\n",
       "      <th></th>\n",
       "    </tr>\n",
       "  </thead>\n",
       "  <tbody>\n",
       "    <tr>\n",
       "      <th>92</th>\n",
       "      <th>Final Critic</th>\n",
       "      <td>13</td>\n",
       "      <td>$4.61</td>\n",
       "      <td>$59.99</td>\n",
       "    </tr>\n",
       "    <tr>\n",
       "      <th>178</th>\n",
       "      <th>Oathbreaker, Last Hope of the Breaking Storm</th>\n",
       "      <td>12</td>\n",
       "      <td>$4.23</td>\n",
       "      <td>$50.76</td>\n",
       "    </tr>\n",
       "    <tr>\n",
       "      <th>82</th>\n",
       "      <th>Nirvana</th>\n",
       "      <td>9</td>\n",
       "      <td>$4.90</td>\n",
       "      <td>$44.10</td>\n",
       "    </tr>\n",
       "    <tr>\n",
       "      <th>145</th>\n",
       "      <th>Fiery Glass Crusader</th>\n",
       "      <td>9</td>\n",
       "      <td>$4.58</td>\n",
       "      <td>$41.22</td>\n",
       "    </tr>\n",
       "    <tr>\n",
       "      <th>103</th>\n",
       "      <th>Singed Scalpel</th>\n",
       "      <td>8</td>\n",
       "      <td>$4.35</td>\n",
       "      <td>$34.80</td>\n",
       "    </tr>\n",
       "  </tbody>\n",
       "</table>\n",
       "</div>"
      ],
      "text/plain": [
       "                                                     Purchase Count  \\\n",
       "Item ID Item Name                                                     \n",
       "92      Final Critic                                             13   \n",
       "178     Oathbreaker, Last Hope of the Breaking Storm             12   \n",
       "82      Nirvana                                                   9   \n",
       "145     Fiery Glass Crusader                                      9   \n",
       "103     Singed Scalpel                                            8   \n",
       "\n",
       "                                                     Item Price  \\\n",
       "Item ID Item Name                                                 \n",
       "92      Final Critic                                      $4.61   \n",
       "178     Oathbreaker, Last Hope of the Breaking Storm      $4.23   \n",
       "82      Nirvana                                           $4.90   \n",
       "145     Fiery Glass Crusader                              $4.58   \n",
       "103     Singed Scalpel                                    $4.35   \n",
       "\n",
       "                                                     Total Purchase Value  \n",
       "Item ID Item Name                                                          \n",
       "92      Final Critic                                               $59.99  \n",
       "178     Oathbreaker, Last Hope of the Breaking Storm               $50.76  \n",
       "82      Nirvana                                                    $44.10  \n",
       "145     Fiery Glass Crusader                                       $41.22  \n",
       "103     Singed Scalpel                                             $34.80  "
      ]
     },
     "execution_count": 10,
     "metadata": {},
     "output_type": "execute_result"
    }
   ],
   "source": []
  }
 ],
 "metadata": {
  "anaconda-cloud": {},
  "kernel_info": {
   "name": "python3"
  },
  "kernelspec": {
   "display_name": "Python 3",
   "language": "python",
   "name": "python3"
  },
  "language_info": {
   "codemirror_mode": {
    "name": "ipython",
    "version": 3
   },
   "file_extension": ".py",
   "mimetype": "text/x-python",
   "name": "python",
   "nbconvert_exporter": "python",
   "pygments_lexer": "ipython3",
   "version": "3.8.3-final"
  },
  "latex_envs": {
   "LaTeX_envs_menu_present": true,
   "autoclose": false,
   "autocomplete": true,
   "bibliofile": "biblio.bib",
   "cite_by": "apalike",
   "current_citInitial": 1,
   "eqLabelWithNumbers": true,
   "eqNumInitial": 1,
   "hotkeys": {
    "equation": "Ctrl-E",
    "itemize": "Ctrl-I"
   },
   "labels_anchors": false,
   "latex_user_defs": false,
   "report_style_numbering": false,
   "user_envs_cfg": false
  },
  "nteract": {
   "version": "0.2.0"
  }
 },
 "nbformat": 4,
 "nbformat_minor": 2
}